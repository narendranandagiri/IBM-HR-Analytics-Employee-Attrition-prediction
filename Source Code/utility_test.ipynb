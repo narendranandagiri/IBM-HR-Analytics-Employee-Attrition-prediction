{
  "nbformat": 4,
  "nbformat_minor": 0,
  "metadata": {
    "colab": {
      "provenance": []
    },
    "kernelspec": {
      "name": "python3",
      "display_name": "Python 3"
    },
    "language_info": {
      "name": "python"
    }
  },
  "cells": [
    {
      "cell_type": "code",
      "source": [
        "#import all required libraries\n",
        "\n",
        "import os\n",
        "import json\n",
        "import pickle\n",
        "import warnings\n",
        "import numpy as np\n",
        "import pandas as pd\n",
        "warnings.filterwarnings('ignore')"
      ],
      "metadata": {
        "id": "UeFOufVLJ8hb"
      },
      "execution_count": 290,
      "outputs": []
    },
    {
      "cell_type": "code",
      "source": [
        "artifact_loc = '/content/Artifacts'\n",
        "\n",
        "os.listdir(artifact_loc)"
      ],
      "metadata": {
        "colab": {
          "base_uri": "https://localhost:8080/"
        },
        "id": "T5v3-gxbApxs",
        "outputId": "678567dd-bf8c-4cfb-a586-81379a8802d8"
      },
      "execution_count": 291,
      "outputs": [
        {
          "output_type": "execute_result",
          "data": {
            "text/plain": [
              "['feature_scaling.pkl',\n",
              " '.ipynb_checkpoints',\n",
              " 'model.pkl',\n",
              " 'training_features.json']"
            ]
          },
          "metadata": {},
          "execution_count": 291
        }
      ]
    },
    {
      "cell_type": "code",
      "source": [
        "class Artifacts:\n",
        "    def __init__(self,artifact_loc):\n",
        "        self.artifact_loc = artifact_loc\n",
        "\n",
        "    def load_features(self):\n",
        "        with open(os.path.join(self.artifact_loc,'training_features.json') , 'r') as f:\n",
        "            __features = json.load(f)['features']\n",
        "        return __features\n",
        "\n",
        "    def load_scaling(self):\n",
        "        with open(os.path.join(self.artifact_loc,'feature_scaling.pkl') , 'rb') as f:\n",
        "            __scaling = pickle.load(f)\n",
        "        return __scaling\n",
        "\n",
        "    def load_model(self):\n",
        "        with open(os.path.join(self.artifact_loc,'model.pkl') , 'rb') as f:\n",
        "            __model = pickle.load(f)\n",
        "        return __model"
      ],
      "metadata": {
        "id": "ARO7KM6qISMq"
      },
      "execution_count": 292,
      "outputs": []
    },
    {
      "cell_type": "code",
      "source": [
        "#\n",
        "artifacts = Artifacts(artifact_loc)\n",
        "input_features = artifacts.load_features()\n",
        "scaling = artifacts.load_scaling()\n",
        "model = artifacts.load_model()"
      ],
      "metadata": {
        "id": "SYTjhq4WIg52"
      },
      "execution_count": 283,
      "outputs": []
    },
    {
      "cell_type": "code",
      "source": [
        "print(input_features)"
      ],
      "metadata": {
        "colab": {
          "base_uri": "https://localhost:8080/"
        },
        "id": "VwnIrm74I8lv",
        "outputId": "76962706-b7ac-49d7-ee5e-1bba03b56dc1"
      },
      "execution_count": 285,
      "outputs": [
        {
          "output_type": "stream",
          "name": "stdout",
          "text": [
            "['Age', 'BusinessTravel', 'DailyRate', 'Department', 'DistanceFromHome', 'Education', 'EducationField', 'EnvironmentSatisfaction', 'Gender', 'HourlyRate', 'JobInvolvement', 'JobLevel', 'JobRole', 'JobSatisfaction', 'MaritalStatus', 'MonthlyIncome', 'MonthlyRate', 'NumCompaniesWorked', 'OverTime', 'PercentSalaryHike', 'PerformanceRating', 'RelationshipSatisfaction', 'StockOptionLevel', 'TotalWorkingYears', 'TrainingTimesLastYear', 'WorkLifeBalance', 'YearsAtCompany', 'YearsInCurrentRole', 'YearsSinceLastPromotion', 'YearsWithCurrManager']\n"
          ]
        }
      ]
    },
    {
      "cell_type": "code",
      "source": [
        "len(input_features)"
      ],
      "metadata": {
        "colab": {
          "base_uri": "https://localhost:8080/"
        },
        "id": "TS0Rbcq-KPfp",
        "outputId": "0953f4cb-1587-4576-9778-6a43acf6e662"
      },
      "execution_count": 286,
      "outputs": [
        {
          "output_type": "execute_result",
          "data": {
            "text/plain": [
              "30"
            ]
          },
          "metadata": {},
          "execution_count": 286
        }
      ]
    },
    {
      "cell_type": "code",
      "source": [
        "#master function\n",
        "\n",
        "def predict_response(input_features):\n",
        "    # feature columns\n",
        "    feature_columns = [\n",
        "        'Age', 'DailyRate', 'DistanceFromHome', 'HourlyRate', 'MonthlyIncome',\n",
        "        'MonthlyRate', 'NumCompaniesWorked', 'PercentSalaryHike',\n",
        "        'StockOptionLevel', 'TotalWorkingYears', 'TrainingTimesLastYear',\n",
        "        'YearsAtCompany', 'YearsInCurrentRole', 'YearsSinceLastPromotion',\n",
        "        'YearsWithCurrManager', 'BusinessTravel_Non-Travel',\n",
        "        'BusinessTravel_Travel_Frequently', 'BusinessTravel_Travel_Rarely',\n",
        "        'Department_Human Resources', 'Department_Research & Development',\n",
        "        'Department_Sales', 'Education_Bachelors', 'Education_Intermediate',\n",
        "        'Education_Masters', 'Education_PhD', 'Education_Schooling',\n",
        "        'EducationField_Human Resources', 'EducationField_Life Sciences',\n",
        "        'EducationField_Marketing', 'EducationField_Medical',\n",
        "        'EducationField_Other', 'EducationField_Technical Degree',\n",
        "        'EnvironmentSatisfaction_High', 'EnvironmentSatisfaction_Low',\n",
        "        'EnvironmentSatisfaction_Medium', 'EnvironmentSatisfaction_Very high',\n",
        "        'Gender_Female', 'Gender_Male', 'JobInvolvement_High',\n",
        "        'JobInvolvement_Low', 'JobInvolvement_Medium',\n",
        "        'JobInvolvement_Very high', 'JobLevel_Fresher', 'JobLevel_Junior',\n",
        "        'JobLevel_Manager', 'JobLevel_Senior', 'JobLevel_Team Lead',\n",
        "        'JobRole_Healthcare Representative', 'JobRole_Human Resources',\n",
        "        'JobRole_Laboratory Technician', 'JobRole_Manager',\n",
        "        'JobRole_Manufacturing Director', 'JobRole_Research Director',\n",
        "        'JobRole_Research Scientist', 'JobRole_Sales Executive',\n",
        "        'JobRole_Sales Representative', 'JobSatisfaction_High',\n",
        "        'JobSatisfaction_Low', 'JobSatisfaction_Medium',\n",
        "        'JobSatisfaction_Very high', 'MaritalStatus_Divorced',\n",
        "        'MaritalStatus_Married', 'MaritalStatus_Single', 'OverTime_No',\n",
        "        'OverTime_Yes', 'PerformanceRating_Excellent',\n",
        "        'PerformanceRating_Outstanding', 'RelationshipSatisfaction_Excellent',\n",
        "        'RelationshipSatisfaction_Good', 'RelationshipSatisfaction_Outstanding',\n",
        "        'RelationshipSatisfaction_Poor', 'WorkLifeBalance_Best',\n",
        "        'WorkLifeBalance_Better', 'WorkLifeBalance_Good',\n",
        "        'WorkLifeBalance_Poor'\n",
        "    ]\n",
        "\n",
        "    # categorical columns and their categories\n",
        "    categorical_columns = {\n",
        "        'BusinessTravel': ['Non-Travel', 'Travel_Frequently', 'Travel_Rarely'],\n",
        "        'Department': ['Human Resources', 'Research & Development', 'Sales'],\n",
        "        'Education': ['Bachelors', 'Intermediate', 'Masters', 'PhD', 'Schooling'],\n",
        "        'EducationField': ['Human Resources', 'Life Sciences', 'Marketing', 'Medical', 'Other', 'Technical Degree'],\n",
        "        'EnvironmentSatisfaction': ['High', 'Low', 'Medium', 'Very high'],\n",
        "        'Gender': ['Female', 'Male'],\n",
        "        'JobInvolvement': ['High', 'Low', 'Medium', 'Very high'],\n",
        "        'JobLevel': ['Fresher', 'Junior', 'Manager', 'Senior', 'Team Lead'],\n",
        "        'JobRole': ['Healthcare Representative', 'Human Resources', 'Laboratory Technician', 'Manager', 'Manufacturing Director',\n",
        "                    'Research Director', 'Research Scientist', 'Sales Executive', 'Sales Representative'],\n",
        "        'JobSatisfaction': ['High', 'Low', 'Medium', 'Very high'],\n",
        "        'MaritalStatus': ['Divorced', 'Married', 'Single'],\n",
        "        'OverTime': ['No', 'Yes'],\n",
        "        'PerformanceRating': ['Excellent', 'Outstanding'],\n",
        "        'RelationshipSatisfaction': ['Excellent', 'Good', 'Outstanding', 'Poor'],\n",
        "        'WorkLifeBalance': ['Best', 'Better', 'Good', 'Poor']\n",
        "    }\n",
        "\n",
        "    processed_data = pd.DataFrame(columns=feature_columns)\n",
        "\n",
        "    # for categorical columns\n",
        "    for column, categories in categorical_columns.items():\n",
        "        for category in categories:\n",
        "            processed_data[f'{column}_{category}'] = [1 if input_features.get(column) == category else 0]\n",
        "\n",
        "    # for numerical columns\n",
        "    numerical_columns = [\n",
        "        'Age', 'DailyRate', 'DistanceFromHome', 'HourlyRate', 'MonthlyIncome', 'MonthlyRate',\n",
        "        'NumCompaniesWorked', 'PercentSalaryHike', 'StockOptionLevel', 'TotalWorkingYears',\n",
        "        'TrainingTimesLastYear', 'YearsAtCompany', 'YearsInCurrentRole', 'YearsSinceLastPromotion', 'YearsWithCurrManager'\n",
        "    ]\n",
        "    for column in numerical_columns:\n",
        "        processed_data[column] = [input_features.get(column, 0)]\n",
        "\n",
        "    # order\n",
        "    processed_data = processed_data.reindex(columns=feature_columns, fill_value=0)\n",
        "\n",
        "    # Scaling\n",
        "    scaled_data = scaling.transform(processed_data)\n",
        "\n",
        "    # Predict using the model\n",
        "    prediction = model.predict(scaled_data)[0]\n",
        "    prediction_proba = model.predict_proba(scaled_data)\n",
        "\n",
        "    # Determine the result\n",
        "    result = \"The employee is expected to remain with the company.\" if prediction == 0 else \"The chances are high that the employee will leave the company.\"\n",
        "\n",
        "    # Return the prediction, probabilities, and features in the specified order\n",
        "    return result, prediction_proba"
      ],
      "metadata": {
        "id": "arx0zxikovKf"
      },
      "execution_count": 293,
      "outputs": []
    },
    {
      "cell_type": "code",
      "source": [
        "#The employee is expected to remain with the company.'\n",
        "data = {\n",
        "    \"Age\": 40,\n",
        "    \"BusinessTravel\": \"Travel_Frequently\",\n",
        "    \"DailyRate\": 593,\n",
        "    \"Department\": \"Research & Development\",\n",
        "    \"DistanceFromHome\": 9,\n",
        "    \"Education\": \"Masters\",\n",
        "    \"EducationField\": \"Medical\",\n",
        "    \"EnvironmentSatisfaction\": \"Medium\",\n",
        "    \"Gender\": \"Female\",\n",
        "    \"HourlyRate\": 88,\n",
        "    \"JobInvolvement\": \"High\",\n",
        "    \"JobLevel\": \"Senior\",\n",
        "    \"JobRole\": \"Research Director\",\n",
        "    \"JobSatisfaction\": \"High\",\n",
        "    \"MaritalStatus\": \"Single\",\n",
        "    \"MonthlyIncome\": 13499,\n",
        "    \"MonthlyRate\": 13782,\n",
        "    \"NumCompaniesWorked\": 9,\n",
        "    \"OverTime\": \"No\",\n",
        "    \"PercentSalaryHike\": 17,\n",
        "    \"PerformanceRating\": \"Excellent\",\n",
        "    \"RelationshipSatisfaction\": \"Excellent\",\n",
        "    \"StockOptionLevel\": 0,\n",
        "    \"TotalWorkingYears\": 20,\n",
        "    \"TrainingTimesLastYear\": 3,\n",
        "    \"WorkLifeBalance\": \"Good\",\n",
        "    \"YearsAtCompany\": 18,\n",
        "    \"YearsInCurrentRole\": 7,\n",
        "    \"YearsSinceLastPromotion\": 2,\n",
        "    \"YearsWithCurrManager\": 13\n",
        "}\n",
        "\n",
        "\n",
        "\n",
        "result = predict_response(data)\n",
        "print(\"Response - \" , result)"
      ],
      "metadata": {
        "colab": {
          "base_uri": "https://localhost:8080/"
        },
        "id": "fd03xRStLHfG",
        "outputId": "75c0e0f2-32ec-448c-de1b-916dfb551ded"
      },
      "execution_count": 288,
      "outputs": [
        {
          "output_type": "stream",
          "name": "stdout",
          "text": [
            "Response -  ('The employee is expected to remain with the company.', array([[1., 0.]]))\n"
          ]
        }
      ]
    },
    {
      "cell_type": "code",
      "source": [
        "#The chances are high that the employee will leave the company.\n",
        "\n",
        "data = {\n",
        "    \"Age\": 36,\n",
        "    \"BusinessTravel\": \"Travel_Rarely\",\n",
        "    \"DailyRate\": 938,\n",
        "    \"Department\": \"Research & Development\",\n",
        "    \"DistanceFromHome\": 2,\n",
        "    \"Education\": \"Masters\",\n",
        "    \"EducationField\": \"Medical\",\n",
        "    \"EnvironmentSatisfaction\": \"High\",\n",
        "    \"Gender\": \"Male\",\n",
        "    \"HourlyRate\": 79,\n",
        "    \"JobInvolvement\": \"High\",\n",
        "    \"JobLevel\": \"Fresher\",\n",
        "    \"JobRole\": \"Laboratory Technician\",\n",
        "    \"JobSatisfaction\": \"High\",\n",
        "    \"MaritalStatus\": \"Single\",\n",
        "    \"MonthlyIncome\": 2519,\n",
        "    \"MonthlyRate\": 12287,\n",
        "    \"NumCompaniesWorked\": 4,\n",
        "    \"OverTime\": \"No\",\n",
        "    \"PercentSalaryHike\": 21,\n",
        "    \"PerformanceRating\": \"Outstanding\",\n",
        "    \"RelationshipSatisfaction\": \"Excellent\",\n",
        "    \"StockOptionLevel\": 0,\n",
        "    \"TotalWorkingYears\": 16,\n",
        "    \"TrainingTimesLastYear\": 6,\n",
        "    \"WorkLifeBalance\": \"Better\",\n",
        "    \"YearsAtCompany\": 11,\n",
        "    \"YearsInCurrentRole\": 8,\n",
        "    \"YearsSinceLastPromotion\": 3,\n",
        "    \"YearsWithCurrManager\": 9\n",
        "}\n",
        "\n",
        "\n",
        "\n",
        "result = predict_response(data)\n",
        "print(\"Response - \" , result)"
      ],
      "metadata": {
        "colab": {
          "base_uri": "https://localhost:8080/"
        },
        "id": "qEV6cKTC0gH-",
        "outputId": "e3c26953-d147-42e2-93cf-4dc2bf151759"
      },
      "execution_count": 289,
      "outputs": [
        {
          "output_type": "stream",
          "name": "stdout",
          "text": [
            "Response -  ('The chances are high that the employee will leave the company.', array([[0.4, 0.6]]))\n"
          ]
        }
      ]
    }
  ]
}